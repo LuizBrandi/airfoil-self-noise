{
  "cells": [
    {
      "cell_type": "markdown",
      "source": [
        "# Regressão Linear"
      ],
      "metadata": {
        "id": "pHrkAcGwDGLK"
      }
    },
    {
      "cell_type": "markdown",
      "source": [
        "A regressão linear é um conceito fundamental no campo do 'aprendizado de máquina supervisionado'. Ela é uma técnica estatística que permite modelar a relação entre uma variável dependente (**target, ou alvo**) e uma ou mais variáveis independentes (**features, ou características**) por meio de uma equação linear. O objetivo da regressão linear é encontrar uma linha reta que melhor se ajuste aos dados de treinamento para prever a variável dependente com base nas variáveis independentes.\n",
        "\n",
        "\n",
        "Neste trabalho analisaremos uma base de dados da UCI Machine Learning Repository e utilizaremos o algoritmo dos mínimos quadrados treinado pelo **Gradiente Descente**  para fazer previsões a partir dos dados de treinamento."
      ],
      "metadata": {
        "id": "CyU04wwuDQjM"
      }
    },
    {
      "cell_type": "markdown",
      "source": [
        "# Conjunto de Dados de Ruído de Perfil Aerodinâmico\n",
        "\n",
        "## Introdução\n",
        "\n",
        "O [conjunto de dados de ruído de perfil aerodinâmico](https://archive.ics.uci.edu/dataset/291/airfoil+self+noise) é uma coleção de dados amplamente utilizada na área de engenharia aeroespacial e acústica. Ele contém informações relacionadas ao ruído gerado por perfis aerodinâmicos, que são usados em uma variedade de aplicações, como asas de aeronaves e pás de turbinas eólicas.\n",
        "\n",
        "## Conteúdo do Conjunto de Dados\n",
        "\n",
        "Este conjunto de dados contém as seguintes informações:\n",
        "\n",
        "- **Frequency (Hz)**: A frequência do ruído em hertz.\n",
        "- **Angle of Attack (degrees)**: O ângulo de ataque do perfil aerodinâmico em graus.\n",
        "- **Chord Length (meters)**: O comprimento da corda do perfil aerodinâmico em metros.\n",
        "- **Free-Stream Velocity (m/s)**: A velocidade do fluxo livre em metros por segundo.\n",
        "- **Suction Side Displacement Thickness (meters)**: A espessura de deslocamento do lado de sucção do perfil aerodinâmico em metros.\n",
        "- **Scaled Sound Pressure Level (dB)**: O nível de pressão sonora em decibéis, que é a variável alvo ou de saída.\n",
        "\n",
        "## Objetivo do Conjunto de Dados\n",
        "\n",
        "O principal objetivo deste conjunto de dados é permitir a análise e modelagem do ruído gerado por perfis aerodinâmicos em diferentes condições de operação.\n",
        "\n",
        "Este conjunto de dados oferece uma oportunidade valiosa para explorar a relação entre características de perfil aerodinâmico e a emissão de ruído.\n",
        "\n",
        "\n",
        "Dessa forma, para nossa análise, temos como o conjunto de features as colunas:\n",
        "\n",
        "- **Frequency (Hz)**\n",
        "- **Angle of Attack (degrees)**\n",
        "- **Chord Length (meters)**\n",
        "- **Free-Stream Velocity (m/s)**\n",
        "- **Suction Side Displacement Thickness (meters)**\n",
        "\n",
        "E como target temos a coluna **Scaled Sound Pressure Level (dB)**.\n"
      ],
      "metadata": {
        "id": "mRrQS4ujGWgY"
      }
    },
    {
      "cell_type": "markdown",
      "source": [
        "Primeiramente, iremos importar as bibliotecas necessárias para nossa análise."
      ],
      "metadata": {
        "id": "wBpxAwyyIV5U"
      }
    },
    {
      "cell_type": "code",
      "source": [
        "from sklearn.base import BaseEstimator\n",
        "import numpy as np\n",
        "from google.colab import drive\n",
        "drive.mount('/content/drive')\n",
        "import pandas as pd\n",
        "from sklearn.preprocessing import MinMaxScaler\n",
        "from sklearn.model_selection import train_test_split\n",
        "import matplotlib.pyplot as plt"
      ],
      "metadata": {
        "colab": {
          "base_uri": "https://localhost:8080/"
        },
        "id": "KCO1K1k9IdXu",
        "outputId": "96a4ac99-a46f-44eb-d74c-42991cc14ffe"
      },
      "execution_count": 47,
      "outputs": [
        {
          "output_type": "stream",
          "name": "stdout",
          "text": [
            "Drive already mounted at /content/drive; to attempt to forcibly remount, call drive.mount(\"/content/drive\", force_remount=True).\n"
          ]
        }
      ]
    },
    {
      "cell_type": "markdown",
      "source": [
        "# Carregando o dataset"
      ],
      "metadata": {
        "id": "WWQkNVvcbxW3"
      }
    },
    {
      "cell_type": "code",
      "source": [
        "#criando um dataframe para receber os dados do arquivo csv\n",
        "\n",
        "data = pd.read_csv('/content/drive/MyDrive/Colab Notebooks/ML/Regressão Linear/airfoil_self_noise.dat', delimiter='\\t')\n",
        "print(data.head())"
      ],
      "metadata": {
        "colab": {
          "base_uri": "https://localhost:8080/"
        },
        "id": "b8fpi0LGbdNG",
        "outputId": "89ac0ce7-1afe-47e2-c89d-0aa518450756"
      },
      "execution_count": 48,
      "outputs": [
        {
          "output_type": "stream",
          "name": "stdout",
          "text": [
            "    800    0  0.3048  71.3  0.00266337  126.201\n",
            "0  1000  0.0  0.3048  71.3    0.002663  125.201\n",
            "1  1250  0.0  0.3048  71.3    0.002663  125.951\n",
            "2  1600  0.0  0.3048  71.3    0.002663  127.591\n",
            "3  2000  0.0  0.3048  71.3    0.002663  127.461\n",
            "4  2500  0.0  0.3048  71.3    0.002663  125.571\n"
          ]
        }
      ]
    },
    {
      "cell_type": "markdown",
      "source": [
        "Para a aplicação dos algoritmos será necessário dividirmos nosso dataset em uma matriz X que contenha as colunas relacionadas as features e em uma coluna y que representará nosso target.\n",
        "\n",
        "# Divisão do Conjunto de Dados para Treinamento e Teste em Aprendizado de Máquina\n",
        "\n",
        "Em aprendizado de máquina, um passo crítico no desenvolvimento de modelos é a divisão do conjunto de dados em duas partes distintas: uma para **treinamento** e outra para **teste**. Esse processo é fundamental para avaliar a capacidade de generalização do modelo.\n",
        "\n",
        "## Conjunto de Dados de Treinamento\n",
        "\n",
        "O **conjunto de dados de treinamento** é usado para alimentar o modelo durante o processo de treinamento. Ele contém uma porção significativa dos dados disponíveis e é usado para que o modelo aprenda as relações e padrões nos dados, ajustando seus parâmetros.\n",
        "\n",
        "## Conjunto de Dados de Teste\n",
        "\n",
        "O **conjunto de dados de teste**, por outro lado, é reservado para avaliar o desempenho do modelo depois que ele foi treinado. Esse conjunto não é usado durante o treinamento e deve ser mantido separado do conjunto de treinamento para garantir uma avaliação imparcial do modelo.\n"
      ],
      "metadata": {
        "id": "EFMzLUv7JD8K"
      }
    },
    {
      "cell_type": "code",
      "source": [
        "data_matrix = data.to_numpy()\n",
        "\n",
        "lines = data.shape[0]\n",
        "columns = data.shape[1]\n",
        "\n",
        "X = data_matrix[0:lines+1, 0:columns]\n",
        "y = data_matrix[:, columns - 1]\n",
        "\n",
        "X_train, X_test, y_train, y_test = train_test_split(X, y, test_size=1 - 0.8, random_state=42)"
      ],
      "metadata": {
        "id": "1qgiJHLrvypx"
      },
      "execution_count": 49,
      "outputs": []
    },
    {
      "cell_type": "markdown",
      "source": [
        "# Aprendizado por Solução Analítica\n",
        "\n",
        "A Solução Analítica, é um meio direto para encontrar os melhores valores dos parâmetros(thetas) no modelo de regressão linear.\n",
        "\n",
        "$$\n",
        "\\theta = \\frac{2}{m}(X^T X)^{-1} X^T y\n",
        "$$"
      ],
      "metadata": {
        "id": "w3XcpbYNnI2e"
      }
    },
    {
      "cell_type": "markdown",
      "source": [
        "# Aprendizado com Gradiente Descendente\n",
        "\n",
        "## Introdução\n",
        "\n",
        "O **gradiente descendente** é uma técnica fundamental no campo do aprendizado de máquina e otimização. É amplamente utilizado para treinar modelos de machine learning, como redes neurais, regressões lineares e muitos outros algoritmos. A ideia central por trás do gradiente descendente é minimizar uma função de custo ajustando iterativamente os parâmetros do modelo.\n",
        "\n",
        "## Funcionamento do Gradiente Descendente\n",
        "\n",
        "O processo do gradiente descendente pode ser resumido em três etapas:\n",
        "\n",
        "1. **Inicialização dos Parâmetros**: Começa-se com uma inicialização aleatória (ou outra estratégia) dos parâmetros do modelo que se deseja otimizar.\n",
        "\n",
        "2. **Cálculo do Gradiente**: Calcula-se o gradiente da função de custo em relação aos parâmetros do modelo. O gradiente indica a direção e magnitude do ajuste necessário para minimizar a função de custo.\n",
        "\n",
        "Temos que a hipótese do algoritmo é dada por:\n",
        "\n",
        "$$\n",
        "h_{\\theta}(x) = {\\theta}_0 + {\\theta}_1x_1 + {\\theta}_2x_2 + ... + {\\theta}_nx_n\n",
        "$$\n",
        "\n",
        "Nesse sentido, os thetas representam os parâmetros(pesos) associados a cada feature do exemplo, representadas por x.\n",
        "\n",
        "Já a função de custo é dada por:\n",
        "$$\n",
        "J(\\theta_1, \\theta_2, ..., \\theta_n) = \\frac{1}{2m} \\sum_{i=1}^{m} \\left( h_{\\theta} (x^{(i)}) - y^{(i)} \\right)^2\n",
        "$$\n",
        "\n",
        "3. **Atualização dos Parâmetros**: Os parâmetros do modelo são atualizados na direção oposta ao gradiente, multiplicados por uma taxa de aprendizado alpha. Isso significa que os parâmetros são ajustados gradualmente na direção que minimiza a função de custo. A fórmula de atualização dos parâmetros é:\n",
        "\n",
        "$$\n",
        "\\theta_j := \\theta_j - \\alpha \\frac{\\partial}{\\partial \\theta_j}J(\\theta)\n",
        "$$\n",
        "## Taxa de Aprendizado\n",
        "\n",
        "A **taxa de aprendizado** alpha é um hiperparâmetro importante no gradiente descendente. Ela controla o tamanho dos passos de atualização dos parâmetros. Uma taxa de aprendizado muito alta pode resultar em convergência instável, enquanto uma taxa muito baixa pode levar a convergência lenta ou ficar presa em mínimos locais.\n",
        "\n",
        "\n",
        "## Convergência e Ajustes\n",
        "\n",
        "O processo de treinamento com gradiente descendente é repetido até que a função de custo convirja para um mínimo ou até que um critério de parada seja atingido.\n",
        "\n",
        "O gradiente descendente é uma técnica poderosa e essencial para treinar modelos de aprendizado de máquina. Com uma configuração adequada dos parâmetros e um gerenciamento cuidadoso, o gradiente descendente pode ser usado para treinar modelos que fazem previsões precisas.\n"
      ],
      "metadata": {
        "id": "qmDvlMHAKxpa"
      }
    },
    {
      "cell_type": "code",
      "execution_count": 50,
      "metadata": {
        "collapsed": true,
        "id": "_Bo0ZWY_RIU0"
      },
      "outputs": [],
      "source": [
        "def h(theta, X, line):\n",
        "\n",
        "    hypotesis = 0\n",
        "    for j in range(0, len(theta)):\n",
        "      hypotesis += theta[j] * X[line][j]\n",
        "\n",
        "    return hypotesis\n",
        "\n",
        "class LMSTrainer(BaseEstimator):\n",
        "    def __init__(self, analitic=False):\n",
        "\n",
        "            self.analitic = analitic\n",
        "            self._trained = False\n",
        "            self.theta = []\n",
        "\n",
        "    def fit(self, X, y):\n",
        "\n",
        "        if self.analitic:\n",
        "          self.theta = [0] * X.shape[1]\n",
        "          m = len(y)\n",
        "\n",
        "          X_transpose = X.transpose()\n",
        "          self.theta[:] = (2/m) * np.linalg.pinv(X_transpose @ X) @ X_transpose @ y\n",
        "          self._trained = True\n",
        "          pass\n",
        "        else:\n",
        "          bias = [1] * len(y)\n",
        "          X = np.insert(X, 0, bias, axis=1)\n",
        "          learning_rate = 0.00000001\n",
        "          m = len(y)\n",
        "          num_epochs = 70000\n",
        "          iteration = 0\n",
        "          cost_history = []\n",
        "\n",
        "          self.theta = [0] * X.shape[1]\n",
        "          temp_theta = [0] * len(self.theta)\n",
        "\n",
        "          hip = np.dot(X, self.theta)\n",
        "          while(iteration < num_epochs):\n",
        "            cost = 0\n",
        "\n",
        "            temp_theta[0] = self.theta[0] - learning_rate * sum(hip - y)\n",
        "\n",
        "            for j in range(1, len(self.theta)):\n",
        "              temp_theta[j] = self.theta[j] - learning_rate * (1/m) * sum((hip - y) * X[:,j])\n",
        "\n",
        "            for j in range(0, len(self.theta)):\n",
        "              self.theta[j] = temp_theta[j]\n",
        "\n",
        "            hip = np.dot(X, self.theta)\n",
        "            cost = (1/m) * sum(hip - y)\n",
        "            # print(cost)\n",
        "            cost_history.append(abs(cost))\n",
        "            iteration += 1\n",
        "          # Crie o gráfico de erro\n",
        "          plt.plot(cost_history)\n",
        "          plt.title('Função de Custo')\n",
        "          plt.xlabel('Número de Iterações')\n",
        "          plt.ylabel('Custo')\n",
        "          plt.grid(True)\n",
        "          plt.show()\n",
        "\n",
        "          print(\"Custo(erro) após \" + str(iteration) + \" iterações: \" + str(cost_history[-1]))\n",
        "          pass\n",
        "\n",
        "        self._trained = True\n",
        "\n",
        "        return self\n",
        "\n",
        "    def predict(self, X, y):\n",
        "\n",
        "      bias = [1] * len(y)\n",
        "      X = np.insert(X, 0, bias, axis=1)\n",
        "      y_predicted = [0] * len(y)\n",
        "      for i in range(len(y)):\n",
        "        y_predicted[i] = h(self.theta, X, i)\n",
        "      print(\"y previsto:\")\n",
        "      print(y_predicted)\n",
        "\n",
        "      print(\"y resposta:\")\n",
        "      print(y)\n",
        "\n",
        "      cost = (1/len(X)) * sum(np.square(y - y_predicted))\n",
        "      print(\"O erro de treino é: \" + str(cost))\n",
        "      if not self._trained:\n",
        "        raise RuntimeError(\"You must train classifer before predicting data!\")"
      ]
    },
    {
      "cell_type": "markdown",
      "source": [
        "Vamos realizar o treinamento utilizando o Gradiente Descendente:"
      ],
      "metadata": {
        "id": "kUAYyh_bn2hk"
      }
    },
    {
      "cell_type": "code",
      "source": [
        "trainer = LMSTrainer()\n",
        "predictor = trainer.fit(X_train, y_train)"
      ],
      "metadata": {
        "id": "VSnNlG7Zxhrw",
        "colab": {
          "base_uri": "https://localhost:8080/",
          "height": 490
        },
        "outputId": "68982997-9abc-44c2-c6da-792acb98f3c0"
      },
      "execution_count": 51,
      "outputs": [
        {
          "output_type": "display_data",
          "data": {
            "text/plain": [
              "<Figure size 640x480 with 1 Axes>"
            ],
            "image/png": "[encoded data removed]"
          },
          "metadata": {}
        },
        {
          "output_type": "stream",
          "name": "stdout",
          "text": [
            "Custo(erro) após 70000 iterações: 0.18309875041296036\n"
          ]
        }
      ]
    },
    {
      "cell_type": "markdown",
      "source": [
        "Podemos observar pelo gráfico que o custo apresentou uma queda muito brusca nas iterações iniciais do treinamento, porém após 10 iterações aproximadamente percebemos uma queda mais suave na curva do erro, aproximando-se cada vez mais do 0.\n",
        "\n",
        "Temos, então, que o **erro do treino** é dado por 0.18309875041296036 após 70000 iterações."
      ],
      "metadata": {
        "id": "wKGYHe37SIDb"
      }
    },
    {
      "cell_type": "markdown",
      "source": [
        "Após o treinamento, possuímos os valores de theta que mais se ajustam aos dados fornecidos. Agora, iremos realizar o teste com os valores de X e y reservados para o teste e observaremos o valor de y real e o valor de y  previsto pelo algoritmo. Além disso, observaremos o erro de teste."
      ],
      "metadata": {
        "id": "bKi3Fl5PXN1Q"
      }
    },
    {
      "cell_type": "code",
      "source": [
        "trainer.predict(X_test, y_test)"
      ],
      "metadata": {
        "id": "aps9fMC4qdRS",
        "colab": {
          "base_uri": "https://localhost:8080/"
        },
        "outputId": "7b25a063-5efc-4426-f4e1-95d9dd862c28"
      },
      "execution_count": 52,
      "outputs": [
        {
          "output_type": "stream",
          "name": "stdout",
          "text": [
            "y previsto:\n",
            "[136.71497692181296, 118.94750278496332, 127.97921646203446, 127.05148334490113, 107.30290860028292, 116.26481990090606, 116.97847808366168, 130.06908087158644, 138.2293212837332, 127.87726557880562, 128.88257883155907, 121.18702550876304, 121.4027965254321, 137.36660129830614, 129.8351687398017, 133.3071101590711, 117.73094340887866, 123.07501350833493, 112.69797437957894, 121.5777173268011, 125.9749516928226, 119.79125352875488, 119.92008880376483, 126.79024519893521, 121.18419278687767, 114.7271630727077, 107.76287368452509, 136.4076105155849, 121.00407246704532, 126.12692408950062, 131.03338173113644, 126.63871415033952, 114.9882338810378, 123.78748564950688, 125.29734380246035, 117.58141011358478, 128.17681935314764, 120.06039674626615, 107.61881613308273, 118.76044539642987, 120.48086804284517, 124.40009569850102, 106.89215402042134, 119.55249905233507, 123.8066256696449, 115.37967517146542, 135.17087902745243, 124.09042980734253, 133.7087392226773, 124.70437808286843, 137.6713530337677, 136.0643108923521, 121.39361348300113, 124.28076661266095, 136.68733702936072, 121.95221302388298, 117.86894227923116, 122.87727227129739, 128.3996423236116, 123.41786250579835, 123.86457976552683, 125.26880792242063, 125.88995718857292, 131.28731602046042, 133.0483828901204, 119.40316324669342, 118.8779723725038, 115.05923030495646, 132.79341995839334, 116.19740455854176, 129.45333845441047, 121.30763084947989, 124.83212832153865, 124.0152566009826, 115.15354099348122, 127.11111971084425, 116.18199843305278, 121.48838098474366, 130.70940624692926, 108.79619416234777, 114.79884327792051, 117.23969425267592, 114.76930586446571, 136.75811116983198, 118.18791940390926, 132.43804109640058, 135.62184537533642, 126.38898010202033, 129.318086396581, 116.98621926038768, 129.22395943901577, 133.74305165840232, 122.36532440582681, 116.9395109217222, 123.4424561205254, 121.76012502358168, 125.43476844287798, 117.21540807835035, 120.85955522384926, 138.2563874601644, 129.48773606335013, 123.7582683253776, 112.93726007655326, 127.98337795641626, 116.87207504223242, 111.45046501275318, 114.1249719771145, 119.34549596897787, 120.65303520409094, 120.8025492339817, 116.60341516660546, 128.65637864645734, 131.20316107266947, 123.31894107139317, 115.2153829075474, 123.21811821660094, 135.05666745864897, 123.74478497608646, 129.8829318277141, 127.14969011779084, 130.2072317857315, 129.1004677589854, 133.584093783774, 122.41941951881465, 118.30801258941494, 119.38001110796793, 125.88569122560672, 109.71767412142829, 126.17762544647128, 129.5166175383592, 138.9524186335404, 111.47467594930362, 116.10346581564274, 132.10230392340918, 113.55298203727409, 128.76152901961976, 117.29371648848849, 123.75191931588549, 129.7180897649263, 125.21852442439382, 139.0013866460029, 119.63392908106454, 134.30203170890337, 117.85528039958463, 116.88774888388085, 118.93835297652987, 122.68263960457669, 109.3064648571481, 125.47779739323683, 123.662746487195, 128.6067609304198, 126.95407602588254, 129.53520534101756, 107.43945990047845, 122.63189678537094, 126.31032187424194, 139.90864903669203, 125.08862157273097, 108.1775159856976, 113.09538841658046, 121.16469306736012, 115.95542129782325, 121.94739671325556, 123.40697809604109, 132.81618570577643, 123.98380996378134, 116.88690509310247, 127.180257128505, 129.66112171626844, 122.47416387300552, 132.70055850561928, 126.16485332186309, 124.47837640391512, 127.33280085438795, 124.18646938886448, 116.29603527272116, 129.06350722242925, 128.4031242306504, 112.13935847452322, 125.49215595888367, 125.25671885684012, 123.79707362820419, 127.21568667637304, 123.48313730889664, 123.8675426815792, 122.95130482180171, 139.68139820254348, 122.52397145872024, 133.83950830670696, 114.71612584302255, 139.5273948067639, 116.23382388904065, 115.11782106119867, 126.43944521994507, 127.71578774561466, 131.95650743763645, 122.20339572603669, 110.09248939626299, 130.20038580314719, 135.18140228238858, 129.54566579239, 122.25434208623655, 114.00382478472902, 124.26493721598916, 123.6837511542271, 128.95554607115972, 130.44995666178377, 140.97098480294596, 122.2409307630327, 129.09570095405022, 105.72976558082597, 115.51864008995697, 125.69307558493176, 122.75862783338124, 129.5636383185706, 111.65694518385766, 138.1963271087427, 130.184747891429, 134.2659049763705, 118.33935559447903, 124.36285426229747, 128.1637134310467, 132.31202807776614, 125.24199808709824, 126.08470893079749, 131.2864393303228, 120.07991494453832, 117.2003673667677, 128.16177656551903, 120.05756939652602, 131.48593360029747, 118.6802493500563, 123.31257765075742, 131.3839853043444, 133.33798350550035, 139.36786652979788, 127.06013986428461, 117.56887626702223, 135.21310751180818, 113.06152362387013, 115.48110562962474, 125.17512581692188, 113.46440152418508, 134.47065979998445, 121.95798087742037, 126.4819128494994, 138.526799074094, 109.16928449262343, 126.09033298087972, 121.81609271481389, 120.16200795167964, 117.99640913561207, 131.22844428937634, 136.436303293777, 124.84433144932576, 120.28162381819206, 122.7521319283528, 117.69582915630298, 134.30936072755696, 122.7055356128779, 124.13938555388003, 117.99515246634807, 136.86108669698012, 140.96492342749852, 120.22033221997239, 126.05142970829844, 113.693452297141, 127.16887549219906, 117.87068028272896, 115.55491763590939, 117.06382701554169, 115.63389529072074, 134.28772631768734, 137.051800357261, 130.12416101647622, 129.24698311515337, 106.31158603452178, 125.97454558715962, 129.38447665083405, 126.91475386412135, 117.0513458234999, 132.65953551774265, 119.59486823307986, 116.37832841675794, 124.15472120654202, 132.56955502800034, 122.52004912572494, 129.0867322808393, 123.31082177925995, 111.27466028967555, 139.14741584286764, 121.67526554210863, 127.42302523221021, 117.69512658459118, 136.17718478985287, 126.98395632156166, 116.41539635718124, 120.08574891886907, 121.8461175284908, 117.84862122652382, 120.25168205280686]\n",
            "y resposta:\n",
            "[131.698 112.039 131.889 125.724 111.029 114.927 119.19  129.653 133.503\n",
            " 126.842 127.22  118.564 117.328 132.793 124.512 133.649 119.224 129.973\n",
            " 114.309 127.315 118.998 128.977 122.724 123.305 125.044 116.559 108.625\n",
            " 130.898 126.78  133.063 135.54  130.374 112.014 127.465 129.395 120.419\n",
            " 132.149 122.539 110.317 113.492 126.066 130.239 107.985 122.17  130.086\n",
            " 120.209 130.46  118.618 134.826 128.427 133.894 131.281 125.107 115.857\n",
            " 132.304 127.179 122.765 126.863 127.314 125.963 126.743 124.077 130.033\n",
            " 125.872 133.032 123.453 112.848 122.45  129.395 118.743 124.108 112.506\n",
            " 129.777 130.307 107.284 120.154 120.136 116.724 126.457 112.355 109.951\n",
            " 119.319 120.505 132.086 120.015 127.122 130.893 130.05  138.537 119.04\n",
            " 128.707 128.816 125.837 119.35  120.952 121.903 128.929 115.679 125.631\n",
            " 133.768 135.346 130.148 116.967 131.92  121.617 114.779 119.135 123.695\n",
            " 119.606 125.555 117.093 127.315 132.796 129.465 113.799 126.299 129.946\n",
            " 117.785 129.329 131.184 136.536 125.465 134.946 120.354 123.118 121.306\n",
            " 133.01  111.135 125.054 125.427 134.319 106.582 125.627 126.805 117.996\n",
            " 128.086 121.313 129.869 138.607 129.037 134.976 122.147 128.879 123.445\n",
            " 120.607 120.324 128.718 109.52  124.254 126.43  122.675 131.234 122.606\n",
            " 110.307 125.809 129.977 137.007 128.633 112.699 116.229 118.994 120.189\n",
            " 124.394 129.006 127.634 118.134 118.084 135.248 122.938 125.581 127.356\n",
            " 129.415 130.987 120.534 127.632 122.035 122.679 133.071 112.803 123.091\n",
            " 129.147 129.681 126.16  126.959 126.835 125.527 136.166 125.721 134.052\n",
            " 117.137 135.079 122.082 116.02  133.553 120.575 126.645 124.843 115.137\n",
            " 135.938 135.234 134.938 127.781 111.534 120.247 126.644 121.885 125.824\n",
            " 136.941 128.119 133.13  110.515 119.287 120.061 120.92  129.002 114.249\n",
            " 134.226 129.953 129.68  114.984 118.343 131.96  127.141 131.346 130.205\n",
            " 125.817 122.779 122.365 120.657 125.348 127.246 121.059 129.256 131.129\n",
            " 128.398 135.191 130.964 118.964 130.828 114.085 117.478 123.082 118.106\n",
            " 129.494 125.589 130.589 134.568 111.588 130.961 128.252 122.205 120.137\n",
            " 131.456 132.595 128.338 122.956 116.92  122.771 133.207 119.621 130.156\n",
            " 123.455 132.043 138.557 122.435 131.918 118.291 126.54  123.988 112.93\n",
            " 122.089 120.755 129.468 132.513 129.8   124.904 106.26  117.967 123.74\n",
            " 130.965 120.766 126.826 124.356 108.034 130.595 127.591 118.134 129.5\n",
            " 126.661 113.08  134.853 123.416 126.159 122.341 132.828 131.836 110.313\n",
            " 124.717 119.505 120.058 123.081]\n",
            "O erro de treino é: 19.58247515502379\n"
          ]
        }
      ]
    },
    {
      "cell_type": "markdown",
      "source": [
        "Podemos observar com os dados de treino que os valores previstos com base nos dados de treinamento foram bastante próximos dos dados reais tendo um **erro de teste** de 19.58247515502379."
      ],
      "metadata": {
        "id": "A4NKR3eHg4ON"
      }
    },
    {
      "cell_type": "markdown",
      "source": [
        "# Conclusão\n",
        "\n",
        "Após essa análise, podemos perceber que o algoritmo do gradiente descendente oferece um bom desempenho na tarefa de predição. No entanto, é importante notar que o gradiente descendente exige uma quantidade considerável de iterações até atingir a convergência.\n",
        "\n",
        "Neste trabalho, a tarefa mais desafiadora foi a necessidade de ajustar os parâmetros do gradiente, como a taxa de aprendizado e o número de iterações, até encontrar a combinação que garantisse uma boa convergência. A taxa de aprendizado desempenha um papel crucial no sucesso do treinamento, e encontrar o valor adequado foi basicamente um processo de tentativa e erro. Além disso, foi necessário alterar o número de iterações diversas vezes para evitar uma convergência prematura ou excessivamente lenta.\n",
        "\n",
        "Em resumo, pode-se observar que o gradiente descendente é uma ferramenta valiosa, mas é importante dedicar tempo ao ajuste fino dos parâmetros para obter resultados satisfatórios.\n"
      ],
      "metadata": {
        "id": "ulb77FMRmO9P"
      }
    }
  ],
  "metadata": {
    "kernelspec": {
      "display_name": "Python 3",
      "language": "python",
      "name": "python3"
    },
    "language_info": {
      "codemirror_mode": {
        "name": "ipython",
        "version": 3
      },
      "file_extension": ".py",
      "mimetype": "text/x-python",
      "name": "python",
      "nbconvert_exporter": "python",
      "pygments_lexer": "ipython3",
      "version": "3.6.1"
    },
    "colab": {
      "provenance": []
    }
  },
  "nbformat": 4,
  "nbformat_minor": 0
}